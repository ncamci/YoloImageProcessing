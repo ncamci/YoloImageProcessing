import ultralytics
import cv2

# Load the YOLO model
model = ultralytics.YOLO("yolov8n.pt")

# Open the video file
capture = cv2.VideoCapture(r'C:\Users\vsc\126434-735976920_small.mp4')
if not capture.isOpened():
    print("Error: Could not open video.")
    exit()

while capture.isOpened():
    ret, frame = capture.read()
    if not ret:
        print("Error: Could not read frame.")
        break

    # Run YOLO model on the frame
    result = model(frame)

    for result in result[0].boxes:
        x1, y1, x2, y2 = result.xyxy[0]  # coordinates of the bounding box
        conf = result.conf[0]  # confidence score
        cls = result.cls[0]  # class id

        label = f"{model.names[int(cls)]} {conf:.2f}"  # e.g., car 0.99
        cv2.rectangle(frame, (int(x1), int(y1)), (int(x2), int(y2)), (0, 255, 0), 2)
        cv2.putText(frame, label, (int(x1), int(y1) - 10), cv2.FONT_HERSHEY_SIMPLEX, 0.5, (255, 255, 255), 2)

    cv2.imshow("Frame", frame)
    if cv2.waitKey(1) & 0xFF == ord('q'):
        break

# Release the video capture and close all OpenCV windows
capture.release()
cv2.destroyAllWindows()
